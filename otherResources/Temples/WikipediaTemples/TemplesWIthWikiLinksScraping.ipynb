{
 "cells": [
  {
   "cell_type": "code",
   "execution_count": 1,
   "id": "0e8a8aa3",
   "metadata": {},
   "outputs": [],
   "source": [
    "import pandas as pd\n",
    "import numpy as np\n",
    "import requests\n",
    "from bs4 import BeautifulSoup"
   ]
  },
  {
   "cell_type": "code",
   "execution_count": 2,
   "id": "9f05c86d",
   "metadata": {},
   "outputs": [],
   "source": [
    "url = 'https://en.wikipedia.org/wiki/List_of_Hindu_temples_in_India'\n",
    "data = requests.get(url)\n",
    "html = BeautifulSoup(data.text, 'html.parser')"
   ]
  },
  {
   "cell_type": "code",
   "execution_count": null,
   "id": "67a00917",
   "metadata": {},
   "outputs": [],
   "source": [
    "isUl = html.find('div',class_='toc').ul.find_all('li')\n",
    "# print(isUl)\n",
    "for i in isUl:\n",
    "    print(i.get_text())"
   ]
  },
  {
   "cell_type": "code",
   "execution_count": null,
   "id": "54d6a042",
   "metadata": {
    "scrolled": false
   },
   "outputs": [],
   "source": [
    "currTag = html.find('span',attrs={'id': 'Tamil_Nadu'}).parent\n",
    "# print(currTag.prettify())\n",
    "\n",
    "genericLink = 'https://en.wikipedia.org';\n",
    "\n",
    "while currTag.next_sibling.name != 'ul':\n",
    "    currTag = currTag.next_sibling\n",
    "\n",
    "# currTag = currTag.next_sibling\n",
    "# currTag = currTag.next_sibling\n",
    "    \n",
    "# while currTag.next_sibling.name != 'ul':\n",
    "#     currTag = currTag.next_sibling    \n",
    "\n",
    "currTag = currTag.next_sibling\n",
    "allLis = currTag.find_all('li')\n",
    "\n",
    "for i in allLis:\n",
    "    print(i.get_text().replace(\"\\n\",''))\n",
    "    \n",
    "print()\n",
    "for i in allLis:\n",
    "    link = ''\n",
    "    if i.a:\n",
    "        link = (genericLink + i.a['href']) if i.a['href'] else  \"no link\"\n",
    "    else:\n",
    "        link = \"no link\"\n",
    "    print(link)"
   ]
  },
  {
   "cell_type": "code",
   "execution_count": null,
   "id": "26487937",
   "metadata": {},
   "outputs": [],
   "source": []
  }
 ],
 "metadata": {
  "kernelspec": {
   "display_name": "Python 3 (ipykernel)",
   "language": "python",
   "name": "python3"
  },
  "language_info": {
   "codemirror_mode": {
    "name": "ipython",
    "version": 3
   },
   "file_extension": ".py",
   "mimetype": "text/x-python",
   "name": "python",
   "nbconvert_exporter": "python",
   "pygments_lexer": "ipython3",
   "version": "3.7.9"
  }
 },
 "nbformat": 4,
 "nbformat_minor": 5
}
