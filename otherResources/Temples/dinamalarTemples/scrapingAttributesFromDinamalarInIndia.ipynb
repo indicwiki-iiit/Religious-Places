{
 "cells": [
  {
   "cell_type": "code",
   "execution_count": 1,
   "id": "e181fce2",
   "metadata": {},
   "outputs": [],
   "source": [
    "import pandas as pd\n",
    "import numpy as np\n",
    "import requests\n",
    "from bs4 import BeautifulSoup\n",
    "from time import sleep\n",
    "from random import randint"
   ]
  },
  {
   "cell_type": "code",
   "execution_count": null,
   "id": "bcd4da09",
   "metadata": {},
   "outputs": [],
   "source": [
    "namesList = []\n",
    "# moolavarList = []\n",
    "# urchavarList = []\n",
    "# ammanThayarList = []\n",
    "# thalaVirutchamList = []\n",
    "# theerthamList = []\n",
    "# agamamPoojaList = []\n",
    "# yearsOldList = []\n",
    "# historicalNameList = []\n",
    "# cityList = []\n",
    "# districtList = []\n",
    "# stateList = []\n",
    "allBoxList = []\n",
    "for i in range(11):\n",
    "    allBoxList.append([])\n",
    "festivalList = []\n",
    "openingTimeList = []\n",
    "addressList = []\n",
    "phoneList = []"
   ]
  },
  {
   "cell_type": "code",
   "execution_count": null,
   "id": "7ec7be9a",
   "metadata": {},
   "outputs": [],
   "source": [
    "def getName(obj):\n",
    "    nameTag = obj.find('span',{'id':'TKNameLabel'})\n",
    "    stri =(nameTag.text)\n",
    "    if stri != '' and stri != '-':\n",
    "        namesList.append(stri)\n",
    "    else:\n",
    "        namesList.append('nan')"
   ]
  },
  {
   "cell_type": "code",
   "execution_count": null,
   "id": "d91b7e1a",
   "metadata": {},
   "outputs": [],
   "source": [
    "def getAllBoxEle(obj):\n",
    "    allTds = obj.find_all('td',class_='style5')\n",
    "#     print(len(allTds))\n",
    "    for i in range(len(allTds)):\n",
    "        stri = allTds[i].text.strip()\n",
    "        if stri != '' and stri != '-':\n",
    "            allBoxList[i].append(stri)\n",
    "        else:\n",
    "            allBoxList[i].append('nan')"
   ]
  },
  {
   "cell_type": "code",
   "execution_count": null,
   "id": "1744a551",
   "metadata": {},
   "outputs": [],
   "source": [
    "def getFestival(arr):\n",
    "    stri = (arr[1].text.strip())\n",
    "    if stri != '' and stri != '-':\n",
    "        festivalList.append(stri)\n",
    "    else:\n",
    "        festivalList.append('nan')"
   ]
  },
  {
   "cell_type": "code",
   "execution_count": null,
   "id": "056cec80",
   "metadata": {},
   "outputs": [],
   "source": [
    "def getOpeningTime(arr):\n",
    "    stri =(arr[3].text.strip())\n",
    "    if stri != '' and stri != '-':\n",
    "        openingTimeList.append(stri)\n",
    "    else:\n",
    "        openingTimeList.append('nan')"
   ]
  },
  {
   "cell_type": "code",
   "execution_count": null,
   "id": "901ffb4c",
   "metadata": {},
   "outputs": [],
   "source": [
    "def getAddress(arr):\n",
    "    stri =(arr[4].text.strip())\n",
    "    if stri != '' and stri != '-':\n",
    "        addressList.append(stri)\n",
    "    else:\n",
    "        addressList.append('nan')"
   ]
  },
  {
   "cell_type": "code",
   "execution_count": null,
   "id": "b68ab525",
   "metadata": {},
   "outputs": [],
   "source": [
    "def getPhone(arr):\n",
    "    stri =(arr[5].text.strip())\n",
    "    if stri != '' and stri != '-':\n",
    "        print((\"'\"+stri).replace(' ',\"\"))\n",
    "    else:\n",
    "        print('nan')"
   ]
  },
  {
   "cell_type": "code",
   "execution_count": null,
   "id": "7484bd93",
   "metadata": {
    "scrolled": false
   },
   "outputs": [],
   "source": [
    "df = pd.read_excel('allDinamalarTemples.xlsx')\n",
    "mylist = df['link'].tolist()\n",
    "for i in mylist:\n",
    "    url = i\n",
    "    data = requests.get(url)\n",
    "    html = BeautifulSoup(data.text, 'html.parser')\n",
    "#     getName(html)\n",
    "#     getAllBoxEle(html)\n",
    "    allTdNewDetails = html.find_all('td',class_='newsdetails')\n",
    "#     getFestival(allTdNewDetails)\n",
    "#     getOpeningTime(allTdNewDetails)\n",
    "#     getAddress(allTdNewDetails)\n",
    "    getPhone(allTdNewDetails)"
   ]
  },
  {
   "cell_type": "code",
   "execution_count": null,
   "id": "c2d2f476",
   "metadata": {},
   "outputs": [],
   "source": [
    "url = 'https://temple.dinamalar.com/en/new_en.php?id=22'\n",
    "data = requests.get(url)\n",
    "html = BeautifulSoup(data.text, 'html.parser')\n",
    "thatTag = html.find('div',class_='TabbedPanelsContent TabbedPanelsContentVisible')\n",
    "print(thatTag.prettify())"
   ]
  }
 ],
 "metadata": {
  "kernelspec": {
   "display_name": "Python 3 (ipykernel)",
   "language": "python",
   "name": "python3"
  },
  "language_info": {
   "codemirror_mode": {
    "name": "ipython",
    "version": 3
   },
   "file_extension": ".py",
   "mimetype": "text/x-python",
   "name": "python",
   "nbconvert_exporter": "python",
   "pygments_lexer": "ipython3",
   "version": "3.7.9"
  }
 },
 "nbformat": 4,
 "nbformat_minor": 5
}
