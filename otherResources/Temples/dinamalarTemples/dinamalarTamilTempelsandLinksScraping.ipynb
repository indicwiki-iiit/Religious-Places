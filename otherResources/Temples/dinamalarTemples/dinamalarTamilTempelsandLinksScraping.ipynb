{
 "cells": [
  {
   "cell_type": "code",
   "execution_count": 1,
   "id": "beab0484",
   "metadata": {},
   "outputs": [],
   "source": [
    "import pandas as pd\n",
    "import numpy as np\n",
    "import requests\n",
    "from bs4 import BeautifulSoup\n",
    "from time import sleep\n",
    "from random import randint"
   ]
  },
  {
   "cell_type": "code",
   "execution_count": null,
   "id": "122c01ce",
   "metadata": {},
   "outputs": [],
   "source": [
    "url = 'https://temple.dinamalar.com/en/NavagrahTemples_en.php'\n",
    "data = requests.get(url)\n",
    "html = BeautifulSoup(data.text, 'html.parser')"
   ]
  },
  {
   "cell_type": "code",
   "execution_count": null,
   "id": "cbce7844",
   "metadata": {
    "scrolled": true
   },
   "outputs": [],
   "source": [
    "thatUl = html.find('ul',{'type': 'square'})\n",
    "allLis = thatUl.find_all('li')\n",
    "for li in allLis:\n",
    "     print('https://temple.dinamalar.com/en/'+li.a['href'])"
   ]
  },
  {
   "cell_type": "code",
   "execution_count": null,
   "id": "e06584f5",
   "metadata": {},
   "outputs": [],
   "source": [
    "allNames = []\n",
    "allLinks = []\n",
    "firstPart = 'https://temple.dinamalar.com/en/new_en.php?id='\n",
    "for i in range(10,2372):\n",
    "    url = firstPart + str(i)\n",
    "    #print(url)\n",
    "    data = requests.get(url)\n",
    "    html = BeautifulSoup(data.text, 'html.parser')\n",
    "    heading = html.find('span',{'id': 'TKNameLabel'})\n",
    "    if heading.text != 'Sri  temple':\n",
    "        allNames.append(heading.text)\n",
    "        allLinks.append(url)"
   ]
  },
  {
   "cell_type": "code",
   "execution_count": null,
   "id": "86d9ae40",
   "metadata": {},
   "outputs": [],
   "source": [
    "all_list = pd.DataFrame({ \"NAME\": allNames,\"LINK\": allLinks})\n",
    "all_list"
   ]
  },
  {
   "cell_type": "code",
   "execution_count": null,
   "id": "a664a06b",
   "metadata": {},
   "outputs": [],
   "source": [
    "all_list.to_excel(\"alldinamalarTamilTempels.xlsx\")\n"
   ]
  },
  {
   "cell_type": "code",
   "execution_count": 2,
   "id": "38e9f126",
   "metadata": {},
   "outputs": [],
   "source": [
    "names_list = []\n",
    "links_list = []"
   ]
  },
  {
   "cell_type": "code",
   "execution_count": null,
   "id": "8488d853",
   "metadata": {
    "scrolled": true
   },
   "outputs": [],
   "source": [
    "url = 'https://www.dinamalar.com/nri/temple.asp?cat=Australia&lang=en'\n",
    "data = requests.get(url)\n",
    "sleep(1)\n",
    "html = BeautifulSoup(data.text, 'html.parser')\n",
    "allBoxes = html.find_all('div',class_='nbox')\n",
    "link = ''\n",
    "# name = ''\n",
    "for box in allBoxes:\n",
    "        link = box.find('h3').a['href']\n",
    "#         name = box.find('h3').text\n",
    "        if link not in links_list:\n",
    "            print('https://www.dinamalar.com/nri/'+link)\n",
    "            links_list.append(link)\n",
    "#             print(name)\n",
    "#             names_list.append(name)"
   ]
  }
 ],
 "metadata": {
  "kernelspec": {
   "display_name": "Python 3 (ipykernel)",
   "language": "python",
   "name": "python3"
  },
  "language_info": {
   "codemirror_mode": {
    "name": "ipython",
    "version": 3
   },
   "file_extension": ".py",
   "mimetype": "text/x-python",
   "name": "python",
   "nbconvert_exporter": "python",
   "pygments_lexer": "ipython3",
   "version": "3.7.9"
  }
 },
 "nbformat": 4,
 "nbformat_minor": 5
}
