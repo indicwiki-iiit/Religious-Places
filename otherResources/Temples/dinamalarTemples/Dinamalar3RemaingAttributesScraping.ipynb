{
 "cells": [
  {
   "cell_type": "code",
   "execution_count": 1,
   "id": "0924f3d8",
   "metadata": {},
   "outputs": [],
   "source": [
    "import pandas as pd\n",
    "import numpy as np\n",
    "import requests\n",
    "from bs4 import BeautifulSoup\n",
    "from time import sleep\n",
    "from random import randint\n",
    "import os\n",
    "from selenium import webdriver\n",
    "os.environ['PATH'] += r\"C:\\seleniumDrivers\"\n",
    "from selenium.webdriver.common.by import By"
   ]
  },
  {
   "cell_type": "code",
   "execution_count": null,
   "id": "74ec6118",
   "metadata": {},
   "outputs": [],
   "source": [
    "railwaysStationList = []\n",
    "airPortList = []\n",
    "driver = webdriver.Chrome('C:/seleniumDrivers/chromedriver.exe')\n",
    "df = pd.read_excel('allDinamalarTemples.xlsx')\n",
    "mylist = df['link'].tolist()\n",
    "for i in range(537,1491):\n",
    "    driver.get(mylist[i])\n",
    "    tabs = driver.find_elements(By.CLASS_NAME, value='TabbedPanelsTab')  \n",
    "    tabs[1].click()\n",
    "    sleep(1)\n",
    "    thatDiv = driver.find_element(By.CLASS_NAME, value='TabbedPanelsContentVisible')\n",
    "    req_list = thatDiv.find_elements(By.CLASS_NAME, value='newsdetails')\n",
    "    rail = req_list[1].text.strip() if req_list[1].text.strip() != '' else 'nan'\n",
    "    railwaysStationList.append(rail)\n",
    "    air = req_list[2].text.strip() if req_list[2].text.strip() != '' else 'nan'\n",
    "    airPortList.append(air)"
   ]
  },
  {
   "cell_type": "code",
   "execution_count": null,
   "id": "dd2a086c",
   "metadata": {},
   "outputs": [],
   "source": [
    "for i in railwaysStationList:\n",
    "    print(i)\n",
    "#     airPortList))\n",
    "# done till 538 Sri Varadaraja Perumal temple"
   ]
  },
  {
   "cell_type": "code",
   "execution_count": null,
   "id": "ba9ee796",
   "metadata": {},
   "outputs": [],
   "source": [
    "nearByTemples = []\n",
    "driver = webdriver.Chrome('C:/seleniumDrivers/chromedriver.exe')\n",
    "df = pd.read_excel('allDinamalarTemples.xlsx')\n",
    "mylist = df['link'].tolist()\n",
    "for i in mylist:\n",
    "    driver.get(i)\n",
    "    tabs = driver.find_elements(By.CLASS_NAME, value='TabbedPanelsTab')  \n",
    "    tabs[4].click()\n",
    "    sleep(1)\n",
    "    thatDiv = driver.find_element(By.CLASS_NAME, value='TabbedPanelsContentVisible')\n",
    "    req_list = thatDiv.find_elements(By.CLASS_NAME, value='newsdetails')\n",
    "    stri = ''\n",
    "    for j in range(len(req_list)):\n",
    "        if j == 0:\n",
    "            stri  = (stri + req_list[j].text.strip()) if req_list[j].text.strip() != '' else (stri + '')\n",
    "        else:\n",
    "            stri  = (stri + ',' + req_list[j].text.strip()) if req_list[j].text.strip() != '' else (stri + '')\n",
    "    if stri != '':\n",
    "        nearByTemples.append(stri)\n",
    "    else:\n",
    "        nearByTemples.append('nan')"
   ]
  },
  {
   "cell_type": "code",
   "execution_count": null,
   "id": "a15ca3c6",
   "metadata": {},
   "outputs": [],
   "source": [
    "for i in nearByTemples:\n",
    "    print(i)"
   ]
  },
  {
   "cell_type": "code",
   "execution_count": null,
   "id": "f3f4548d",
   "metadata": {},
   "outputs": [],
   "source": []
  }
 ],
 "metadata": {
  "kernelspec": {
   "display_name": "Python 3 (ipykernel)",
   "language": "python",
   "name": "python3"
  },
  "language_info": {
   "codemirror_mode": {
    "name": "ipython",
    "version": 3
   },
   "file_extension": ".py",
   "mimetype": "text/x-python",
   "name": "python",
   "nbconvert_exporter": "python",
   "pygments_lexer": "ipython3",
   "version": "3.7.9"
  }
 },
 "nbformat": 4,
 "nbformat_minor": 5
}
