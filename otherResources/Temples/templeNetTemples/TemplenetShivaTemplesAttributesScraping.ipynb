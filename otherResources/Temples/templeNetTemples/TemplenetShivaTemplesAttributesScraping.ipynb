{
 "cells": [
  {
   "cell_type": "code",
   "execution_count": 1,
   "id": "0de9e67b",
   "metadata": {},
   "outputs": [],
   "source": [
    "import pandas as pd\n",
    "import numpy as np\n",
    "import requests\n",
    "from bs4 import BeautifulSoup"
   ]
  },
  {
   "cell_type": "code",
   "execution_count": 9,
   "id": "3a7b621d",
   "metadata": {},
   "outputs": [],
   "source": [
    "url = 'http://www.templenet.com/Tamilnadu/s205.html'\n",
    "data = requests.get(url)\n",
    "html = BeautifulSoup(data.text, 'html.parser')\n",
    "\n",
    "checkList = ['Location','Shiva','Ambal','Vriksham','Theertham','Patikam','Travel Base']"
   ]
  },
  {
   "cell_type": "code",
   "execution_count": 31,
   "id": "96e2f2c6",
   "metadata": {
    "scrolled": false
   },
   "outputs": [
    {
     "name": "stdout",
     "output_type": "stream",
     "text": [
      "205. Tiruppattur\n",
      ":\n",
      "\n",
      "Tiruppattur near\r\n",
      "          Karaikkudi.\n",
      "\n",
      "(Pandya Naadu)\n",
      "\n",
      "\n"
     ]
    }
   ],
   "source": [
    "thtaTableTag = html.find('table')\n",
    "insideTables  = thtaTableTag.tr.find_all('table')\n",
    "\n",
    "trinsideTables = insideTables[1].find_all('tr')\n",
    "print(trinsideTables[0].find('big').text)\n",
    "allUs = trinsideTables[1].find_all('u')\n",
    "printIt = allUs[0];\n",
    "printIt = printIt.next_sibling\n",
    "while printIt.name != 'u':\n",
    "    stri = printIt.text.strip()\n",
    "    if stri != '\\n' and :\n",
    "        print(stri)\n",
    "    printIt = printIt.next_sibling"
   ]
  },
  {
   "cell_type": "code",
   "execution_count": 32,
   "id": "1b3397ef",
   "metadata": {},
   "outputs": [
    {
     "name": "stdout",
     "output_type": "stream",
     "text": [
      "Tiruppatturnear\r\n",
      "Karaikkudi.(PandyaNaadu)\n"
     ]
    }
   ],
   "source": [
    "url = 'http://www.templenet.com/Tamilnadu/s205.html'\n",
    "data = requests.get(url)\n",
    "html = BeautifulSoup(data.text, 'html.parser')\n",
    "# findLocation= html.find('u', string='Location')\n",
    "findShiva = html.find('u',string='Patikam')\n",
    "# printLocation = findLocation.next_sibling\n",
    "# # print(printLocation)\n",
    "# stri = ''\n",
    "# while printLocation != findShiva:\n",
    "# #     print(printLocation)\n",
    "#     if printLocation.text.strip() != ':' and printLocation.text.strip() != '':\n",
    "# #         print(printLocation.text.strip())\n",
    "#         stri = stri + printLocation.text.strip().replace(' ',\"\")\n",
    "#     printLocation = printLocation.next_sibling\n",
    "# print(stri)"
   ]
  },
  {
   "cell_type": "code",
   "execution_count": 77,
   "id": "4fb03779",
   "metadata": {},
   "outputs": [],
   "source": [
    "df = pd.read_excel('templenetInfoLinks.xlsx')\n",
    "mylist = df['link'].tolist()\n",
    "appendList = []\n",
    "for k in range(7):\n",
    "    appendList.append([])\n",
    "for l in mylist:\n",
    "    url = l\n",
    "    data = requests.get(url)\n",
    "    html = BeautifulSoup(data.text, 'html.parser')\n",
    "    checkList = ['Location','Shiva','Ambal','Vriksham','Theertham','Patikam ','Travel Base']\n",
    "    allLoop = []\n",
    "    for i in checkList:\n",
    "        ele= html.find('u', string=i)\n",
    "        if ele != None:\n",
    "            if not ele.strong:\n",
    "                ele= ele.parent\n",
    "        allLoop.append(ele)\n",
    "\n",
    "    # for i in allLoop:\n",
    "    #     print(i)\n",
    "    for j in  range(len(allLoop)):\n",
    "        stri = ''\n",
    "        if allLoop[j] != None:\n",
    "            appendStr = allLoop[j].next_sibling\n",
    "            while  appendStr not in allLoop:\n",
    "                if  appendStr != None and appendStr.text:\n",
    "                    if appendStr.text.strip() != ':' and appendStr.text.strip() != '':\n",
    "                        stri = stri + appendStr.text.replace('\\r',\" \").replace('\\n',' ').replace(':',' ').strip()\n",
    "                if appendStr != None:\n",
    "                    appendStr = appendStr.next_sibling\n",
    "                else:\n",
    "                    break\n",
    "            appendList[j].append(stri)  \n",
    "        else:\n",
    "            appendList[j].append('nan')"
   ]
  },
  {
   "cell_type": "code",
   "execution_count": 79,
   "id": "f1a5ab2d",
   "metadata": {},
   "outputs": [],
   "source": [
    "liste = pd.DataFrame({ 'Location':appendList[0],'Shiva':appendList[1],'Ambal':appendList[2],'Vriksham':appendList[3],'Theertham':appendList[4],'Patikam ':appendList[5],'Travel Base':appendList[6]})\n",
    "liste.to_excel(\"scraped attributes templenet.xlsx\")"
   ]
  }
 ],
 "metadata": {
  "kernelspec": {
   "display_name": "Python 3 (ipykernel)",
   "language": "python",
   "name": "python3"
  },
  "language_info": {
   "codemirror_mode": {
    "name": "ipython",
    "version": 3
   },
   "file_extension": ".py",
   "mimetype": "text/x-python",
   "name": "python",
   "nbconvert_exporter": "python",
   "pygments_lexer": "ipython3",
   "version": "3.7.9"
  }
 },
 "nbformat": 4,
 "nbformat_minor": 5
}
