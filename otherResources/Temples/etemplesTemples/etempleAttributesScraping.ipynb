{
 "cells": [
  {
   "cell_type": "code",
   "execution_count": 1,
   "id": "13986e99",
   "metadata": {},
   "outputs": [],
   "source": [
    "import pandas as pd\n",
    "import numpy as np\n",
    "import requests\n",
    "from bs4 import BeautifulSoup\n",
    "from time import sleep\n",
    "from random import randint\n",
    "import re"
   ]
  },
  {
   "cell_type": "code",
   "execution_count": null,
   "id": "0c7bd134",
   "metadata": {},
   "outputs": [],
   "source": [
    "namesList = []\n",
    "addressList = []\n",
    "showHideSectionList = []\n",
    "for l in range(10):\n",
    "    showHideSectionList.append[]\n",
    "templeTimings = []\n",
    "darshanTimings = []\n",
    "eventsAndActivities = []\n",
    "nearByTemples = []"
   ]
  },
  {
   "cell_type": "code",
   "execution_count": 8,
   "id": "3f76347e",
   "metadata": {},
   "outputs": [],
   "source": [
    "def getNameAddress(html):\n",
    "    name = html.find('div',class_='post-meta-left-box').find_all('div')[1].text\n",
    "    add = html.find('span',class_='text gaddress').text\n",
    "    namesList.append(name)\n",
    "    addressList.append(add)"
   ]
  },
  {
   "cell_type": "code",
   "execution_count": 56,
   "id": "bddc82a5",
   "metadata": {},
   "outputs": [],
   "source": [
    "def showHideSection(html):\n",
    "    attList = ['Main Deities', 'Other Deities','Details','Temple Facts', 'Established In', 'Constructed By', 'Architecture', 'Facilities','Contact Details','Best Time To Visit']\n",
    "    allSections = html.find_all('div',class_='showhide_section')\n",
    "    for i in allSections:\n",
    "        att = i.find(class_=\"section_title\").text.replace('\\n','').replace('\\t','').replace('\\xa0','').strip()\n",
    "        if att in attList:\n",
    "            if att == 'Contact Details':\n",
    "                getEmail(i.find(class_='section_data').text.replace('\\n','').replace('\\t','').replace('\\xa0','').strip())\n",
    "                getWebsite(i.find(class_='section_data').text.replace('\\n','').replace('\\t','').replace('\\xa0','').strip())\n",
    "            elif att == 'Details':\n",
    "                pass\n",
    "            elif att == 'Temple Facts':\n",
    "                getTemplefacts(i.find(class_='section_data'))\n",
    "            elif att == 'Facilities':\n",
    "                getFacilities(i.find(class_='section_data'))\n",
    "            else:\n",
    "                for k in range(len(attList)):\n",
    "                    if attList[k] == att:\n",
    "                        print(i.find(class_='section_data').text.replace('\\n','').replace('\\t','').replace('\\xa0','').strip())\n",
    "        "
   ]
  },
  {
   "cell_type": "code",
   "execution_count": 9,
   "id": "94360766",
   "metadata": {},
   "outputs": [],
   "source": [
    "def getMainDeity(html):\n",
    "    allSections = html.find_all('div',class_='showhide_section')\n",
    "#     print(len(allSections))\n",
    "#     liste = []\n",
    "    for i in allSections:\n",
    "        thatTag = i.find(class_=\"section_data\")\n",
    "        if thatTag != None:\n",
    "            print(thatTag.text.replace('\\n','').replace('\\t','').replace('\\xa0','').strip())\n",
    "        else:\n",
    "            print(\"none\")\n",
    "#         liste.append(thatTag.text.replace('\\n','').replace('\\t','').replace('\\xa0','').strip())\n",
    "#     print(liste)"
   ]
  },
  {
   "cell_type": "code",
   "execution_count": 59,
   "id": "7f34b7c8",
   "metadata": {},
   "outputs": [],
   "source": [
    "def getEmail(stri):\n",
    "#     email = re.compile(r'([a-zA-Z0-9._-]+@[a-zA-Z0-9._-]+\\.[a-zA-Z0-9_-]+){0,}')\n",
    "    lst = re.search('\\S+@\\S+', stri).group() if re.search('\\S+@\\S+', stri)  else \"nan\"\n",
    "    if lst.find(\".\") != -1:\n",
    "        lst = lst[0:(lst.find(\".\")+4)]\n",
    "    print(lst)"
   ]
  },
  {
   "cell_type": "code",
   "execution_count": 33,
   "id": "ad2142a4",
   "metadata": {},
   "outputs": [],
   "source": [
    "def getWebsite(stri):\n",
    "    ind = stri.find(\"http://\")\n",
    "    if ind != -1:\n",
    "        lastInd = stri.find(\" \",ind) if stri.find(\" \",ind) != -1 else len(stri)\n",
    "        lst = stri[ind:lastInd]\n",
    "    else:\n",
    "        lst = 'nan'\n",
    "    print(lst)"
   ]
  },
  {
   "cell_type": "code",
   "execution_count": 58,
   "id": "6fd9cff4",
   "metadata": {},
   "outputs": [],
   "source": [
    "def getTemplefacts(getIt):\n",
    "    allRowDivs = getIt.find_all(class_='row')\n",
    "    stri = ''\n",
    "    for j in allRowDivs:\n",
    "        initStr = j.b.text if j.b else 'nan'\n",
    "        if initStr != 'nan':\n",
    "            initStr = initStr.replace(\":\",'')\n",
    "            allDivs = j.find_all(\"div\")\n",
    "            for k in allDivs:\n",
    "                stri = stri + initStr  + (k.text.replace('\\n','').replace('\\t','').replace('\\xa0','').replace('•','').strip()) + \".\"\n",
    "                print(stri)"
   ]
  },
  {
   "cell_type": "code",
   "execution_count": 72,
   "id": "026ba7ea",
   "metadata": {},
   "outputs": [],
   "source": [
    "def getFacilities(getIt):\n",
    "            allRows = getIt.find(class_='row').find_all(\"div\")\n",
    "            stri = ''\n",
    "            for var in range(len(allRows)):\n",
    "                appendStr = allRows[var].text.replace('\\n','').replace('\\t','').replace('\\xa0','').strip()\n",
    "                stri = stri + appendStr\n",
    "                stri = stri + \", \" if var != len(allRows) -1 else stri + \".\"\n",
    "            print(stri)"
   ]
  },
  {
   "cell_type": "code",
   "execution_count": 4,
   "id": "b9de86c7",
   "metadata": {},
   "outputs": [],
   "source": [
    "def getTempleTimngs(html):\n",
    "    allTimingDivs = html.find_all(class_='open-hours')\n",
    "#     print(len(allTimingDivs))\n",
    "    for i in allTimingDivs:\n",
    "        if i.find('span',class_='timingimageset') and i.find('span',class_='timingimageset').text.strip() == 'Temple Timings':\n",
    "            allUls = i.find(class_='hidding-timings').find_all(\"li\")\n",
    "            for j in allUls:\n",
    "                print(j.text.strip())"
   ]
  },
  {
   "cell_type": "code",
   "execution_count": 14,
   "id": "11154874",
   "metadata": {},
   "outputs": [],
   "source": [
    "def getDarshanTimngs(html):\n",
    "    allTimingDivs = html.find_all(class_='open-hours')\n",
    "#     print(len(allTimingDivs))\n",
    "    for i in allTimingDivs:\n",
    "        if i.find('span',class_='timingimageset') and i.find('span',class_='timingimageset').text.strip() == 'Darshan Timings':\n",
    "            allUls = i.find(class_='hidding-timings').find_all(\"li\")\n",
    "            for j in allUls:\n",
    "                print(j.text.strip())"
   ]
  },
  {
   "cell_type": "code",
   "execution_count": 23,
   "id": "37dc4cda",
   "metadata": {},
   "outputs": [],
   "source": [
    "def getEventsActivites(html):\n",
    "    allTimingDivs = html.find_all(class_='open-hours')\n",
    "#     print(len(allTimingDivs))\n",
    "    for i in allTimingDivs:\n",
    "        if i.find('span',class_='timingimageset') and i.find('span',class_='timingimageset').text.strip() == 'Events & Activities':\n",
    "            allUls = i.find(class_='hidding-timings').find_all(\"li\")\n",
    "            for j in allUls:\n",
    "                print(j.text.strip())"
   ]
  },
  {
   "cell_type": "code",
   "execution_count": 19,
   "id": "e2a3d392",
   "metadata": {},
   "outputs": [],
   "source": [
    "def nearByTemples(html):\n",
    "    allTimingDivs = html.find_all(class_='open-hours')\n",
    "    allStrongTags = allTimingDivs[len(allTimingDivs)-1].find_all('strong');\n",
    "    limit = 7\n",
    "    for i in allStrongTags:\n",
    "        print(i.text.replace('\\n','').replace('\\t','').replace('\\xa0','').strip())\n",
    "        limit = limit - 1\n",
    "        if limit == 0:\n",
    "            break"
   ]
  },
  {
   "cell_type": "code",
   "execution_count": null,
   "id": "8aa9ed9e",
   "metadata": {},
   "outputs": [],
   "source": [
    "url = 'http://etemple.com/temple/prashanthi-nilayam-anantapur/'\n",
    "data = requests.get(url)\n",
    "html = BeautifulSoup(data.text, 'html.parser')\n",
    "# getNameAddress(html)\n",
    "# showHideSection(html)\n",
    "# showHideSection(html)\n",
    "# getEmail(html)\n",
    "# getMainDeity(html)\n",
    "# getWebsite(html)\n",
    "# getTemplefacts(html)\n",
    "# getFacilities(html)\n",
    "# getTempleTimngs(html)\n",
    "# getDarshanTimngs(html)\n",
    "# nearByTemples(html)\n",
    "# getEventsActivites(html)"
   ]
  }
 ],
 "metadata": {
  "kernelspec": {
   "display_name": "Python 3 (ipykernel)",
   "language": "python",
   "name": "python3"
  },
  "language_info": {
   "codemirror_mode": {
    "name": "ipython",
    "version": 3
   },
   "file_extension": ".py",
   "mimetype": "text/x-python",
   "name": "python",
   "nbconvert_exporter": "python",
   "pygments_lexer": "ipython3",
   "version": "3.7.9"
  }
 },
 "nbformat": 4,
 "nbformat_minor": 5
}
