{
 "cells": [
  {
   "cell_type": "code",
   "execution_count": 1,
   "id": "5516ef4f",
   "metadata": {},
   "outputs": [],
   "source": [
    "import os\n",
    "from selenium import webdriver\n",
    "from selenium.webdriver.support.ui import WebDriverWait\n",
    "from selenium.webdriver.support import expected_conditions as EC\n",
    "from selenium.webdriver.common.by import By\n",
    "from selenium.common.exceptions import TimeoutException\n",
    "os.environ['PATH'] += r\"C:\\seleniumDrivers\"\n",
    "import pandas as pd\n",
    "import numpy as np\n",
    "import requests\n",
    "from bs4 import BeautifulSoup\n",
    "from time import sleep\n",
    "from random import randint"
   ]
  },
  {
   "cell_type": "code",
   "execution_count": 15,
   "id": "0b29ea06",
   "metadata": {},
   "outputs": [],
   "source": [
    "names = []\n",
    "links = []"
   ]
  },
  {
   "cell_type": "code",
   "execution_count": null,
   "id": "51690ce4",
   "metadata": {},
   "outputs": [],
   "source": [
    "driver = webdriver.Chrome()\n",
    "driver.maximize_window()\n",
    "driver.get('http://etemple.com/temple-type/hindu-temple/')\n",
    "allLis = driver.find_elements(By.CLASS_NAME,'page-numbers')\n",
    "allLis[len(allLis)-1].click()\n",
    "driver.implicitly_wait(20)\n",
    "for pages in range(23):\n",
    "    allNames = driver.find_elements(By.CLASS_NAME, value='lp-h4')\n",
    "    for i in allNames:\n",
    "        names.append(i.text.replace('\\n',\"\").replace(\"\\t\",\"\").strip())\n",
    "        links.append(i.find_element(By.TAG_NAME, value='a').get_attribute('href'))\n",
    "    driver.execute_script(\"window.scrollTo(0, document.body.scrollHeight);\")\n",
    "#     currEle = driver.find_element_by_xpath(\"//span[@class='page-numbers haspaglink current']\")\n",
    "    previousEle=driver.find_element_by_xpath(\"//*[@class='page-numbers haspaglink current']/../preceding-sibling::li[1]\")\n",
    "    previousEle.click()\n",
    "    driver.implicitly_wait(20)\n",
    "    "
   ]
  },
  {
   "cell_type": "code",
   "execution_count": 19,
   "id": "204f157c",
   "metadata": {},
   "outputs": [],
   "source": [
    "liste = pd.DataFrame({ \"NAME\": names,\"LINKS\": links})\n",
    "liste.to_excel(\"etempleFinalOutsideIndiaTempleLinksScraped.xlsx\")"
   ]
  }
 ],
 "metadata": {
  "kernelspec": {
   "display_name": "Python 3 (ipykernel)",
   "language": "python",
   "name": "python3"
  },
  "language_info": {
   "codemirror_mode": {
    "name": "ipython",
    "version": 3
   },
   "file_extension": ".py",
   "mimetype": "text/x-python",
   "name": "python",
   "nbconvert_exporter": "python",
   "pygments_lexer": "ipython3",
   "version": "3.7.9"
  }
 },
 "nbformat": 4,
 "nbformat_minor": 5
}
