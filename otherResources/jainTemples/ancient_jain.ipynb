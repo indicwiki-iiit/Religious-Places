{
 "cells": [
  {
   "cell_type": "code",
   "execution_count": 10,
   "id": "1b97f518",
   "metadata": {},
   "outputs": [
    {
     "name": "stdout",
     "output_type": "stream",
     "text": [
      "Kulpakji\n",
      "Subai Jain temples\n",
      "Kanakagiri Jain tirth\n",
      "Meguti Jain temple\n",
      "Vijayamangalam Jain temple\n",
      "Humcha Jain temples\n",
      "Lakshmeshwara Jain temples\n",
      "Ambapuram cave temple\n",
      "Guru Basadi\n",
      "Panchasara Jain temple\n",
      "Mahavira Jain temple, Osian\n",
      "Trilokyanatha Temple\n",
      "Jain temples at Deogarh\n",
      "Jain temples\n",
      "https://en.wikipedia.org/wiki/Jain_temples\n",
      "https://en.wikipedia.org/wiki/Jain_temples\n",
      "https://en.wikipedia.org/wiki/Jain_temples\n",
      "https://en.wikipedia.org/wiki/Jain_temples\n",
      "https://en.wikipedia.org/wiki/Jain_temples\n",
      "https://en.wikipedia.org/wiki/Jain_temples\n",
      "https://en.wikipedia.org/wiki/Jain_temples\n",
      "https://en.wikipedia.org/wiki/Jain_temples\n",
      "https://en.wikipedia.org/wiki/Jain_temples\n",
      "https://en.wikipedia.org/wiki/Jain_temples\n",
      "https://en.wikipedia.org/wiki/Jain_temples\n",
      "https://en.wikipedia.org/wiki/Jain_temples\n",
      "https://en.wikipedia.org/wiki/Jain_temples\n",
      "https://en.wikipedia.org/wiki/Jain_temples\n",
      "https://en.wikipedia.org/wiki/Jain_temples\n"
     ]
    }
   ],
   "source": [
    "import pandas as pd\n",
    "import numpy as np\n",
    "import requests\n",
    "from bs4 import BeautifulSoup\n",
    "\n",
    "url = 'https://en.wikipedia.org/wiki/List_of_ancient_Jain_temples'\n",
    "data = requests.get(url)\n",
    "html = BeautifulSoup(data.text, 'html.parser')\n",
    "\n",
    "genericLink = 'https://en.wikipedia.org'\n",
    "alltr = html.find_all('tr')\n",
    "\n",
    "for tr in alltr:\n",
    "    aa = tr.find('a')\n",
    "    if aa != None:\n",
    "        print(aa.text)\n",
    "        \n",
    "for tr in alltr:\n",
    "    print(genericLink + aa['href'])"
   ]
  },
  {
   "cell_type": "code",
   "execution_count": null,
   "id": "2acaae3d",
   "metadata": {},
   "outputs": [],
   "source": []
  }
 ],
 "metadata": {
  "kernelspec": {
   "display_name": "Python 3 (ipykernel)",
   "language": "python",
   "name": "python3"
  },
  "language_info": {
   "codemirror_mode": {
    "name": "ipython",
    "version": 3
   },
   "file_extension": ".py",
   "mimetype": "text/x-python",
   "name": "python",
   "nbconvert_exporter": "python",
   "pygments_lexer": "ipython3",
   "version": "3.7.9"
  }
 },
 "nbformat": 4,
 "nbformat_minor": 5
}
