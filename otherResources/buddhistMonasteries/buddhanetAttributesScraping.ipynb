{
 "cells": [
  {
   "cell_type": "code",
   "execution_count": 17,
   "id": "50977ada",
   "metadata": {},
   "outputs": [],
   "source": [
    "import pandas as pd\n",
    "import numpy as np\n",
    "import requests\n",
    "from bs4 import BeautifulSoup\n",
    "from time import sleep\n",
    "from random import randint\n",
    "from urllib.request import Request, urlopen\n",
    "from bs4 import BeautifulSoup as soup"
   ]
  },
  {
   "cell_type": "code",
   "execution_count": 2,
   "id": "c4f6e680",
   "metadata": {},
   "outputs": [],
   "source": [
    "allList = []\n",
    "for i in range(11):\n",
    "    allList.append([])"
   ]
  },
  {
   "cell_type": "code",
   "execution_count": null,
   "id": "af43733c",
   "metadata": {},
   "outputs": [],
   "source": [
    "r = 0\n",
    "while r <= 425:\n",
    "    url = 'http://www.buddhanet.info/wbd/country.php?country_id=42&offset=' + str(r)\n",
    "    req = Request(url , headers={'User-Agent': 'Mozilla/5.0'})\n",
    "    webpage = urlopen(req).read()\n",
    "    page_soup = soup(webpage, \"html.parser\")\n",
    "\n",
    "    allDetails = page_soup.find_all('p',class_='entryDetail')\n",
    "    for i in allDetails:\n",
    "        thatTag =i.find(string='Phone:')\n",
    "        if thatTag != None:\n",
    "                if thatTag.next_element:\n",
    "                    stri  = thatTag.next_element.text.strip().replace('\\r','').replace('\\n','').replace('\\xa0','')\n",
    "                    stri = ' '.join(stri.split())\n",
    "                    stri = \"'\" + stri\n",
    "                    print(stri)\n",
    "                else:\n",
    "                    print('nan')\n",
    "        else:\n",
    "            print('nan')\n",
    "\n",
    "    r = r + 25\n",
    "\n",
    "\n",
    "\n",
    "\n",
    "# url = 'http://www.buddhanet.info/wbd/country.php?country_id=42&offset=0'\n",
    "# # html = BeautifulSoup(data.text, 'html.parser')\n",
    "# # print(html.prettify())\n",
    "# req = Request(url , headers={'User-Agent': 'Mozilla/5.0'})\n",
    "# webpage = urlopen(req).read()\n",
    "# page_soup = soup(webpage, \"html.parser\")\n",
    "\n",
    "# # allNames = page_soup.find_all('p',class_='entryName')\n",
    "# # for i in allNames:\n",
    "# #     print(i.text)\n",
    "\n",
    "# allDetails = page_soup.find('p',class_='entryDetail')\n",
    "# # print(allDetails)\n",
    "# addTag = allDetails.find(string='E-mail:')\n",
    "# stri = addTag.next_element.next_element.text.strip().replace('\\r','').replace('\\n','').replace('\\xa0','')\n",
    "# stri = ' '.join(stri.split())\n",
    "# liste = []\n",
    "# liste.append(stri)\n",
    "# print(liste)\n",
    "# # addTag = addTag.parent\n",
    "# # addTag = addTag.next_sibling.next_sibling\n",
    "# # liste = []\n",
    "# # liste.append(addTag)\n",
    "# # print(liste)"
   ]
  },
  {
   "cell_type": "code",
   "execution_count": 3,
   "id": "38771d81",
   "metadata": {},
   "outputs": [],
   "source": [
    "checkList = ['Address:','Tradition:','Affiliation:','Phone:','E-mail:','Website:','Main Contact:','Spiritual Director:','Teacher:', 'Notes and Events:']\n",
    "\n",
    "r = 0\n",
    "while r <= 425:\n",
    "    url = 'http://www.buddhanet.info/wbd/country.php?country_id=42&offset=' + str(r)\n",
    "    req = Request(url , headers={'User-Agent': 'Mozilla/5.0'})\n",
    "    webpage = urlopen(req).read()\n",
    "    page_soup = soup(webpage, \"html.parser\")\n",
    "\n",
    "    allNames = page_soup.find_all('p',class_='entryName')\n",
    "    for i in allNames:\n",
    "        allList[0].append(i.text)\n",
    "\n",
    "    allDetails = page_soup.find_all('p',class_='entryDetail')\n",
    "    for i in allDetails:\n",
    "        for k in range(len(checkList)):\n",
    "            thatTag =i .find(string=checkList[k])\n",
    "            stri = 'nan'\n",
    "            if thatTag != None:\n",
    "                if thatTag.next_element:\n",
    "                    if k == 4 or k == 5:\n",
    "                        stri  = thatTag.next_element.next_element.text.strip().replace('\\r','').replace('\\n','').replace('\\xa0','')\n",
    "                    else:\n",
    "                        stri  = thatTag.next_element.text.strip().replace('\\r','').replace('\\n','').replace('\\xa0','')\n",
    "                    stri = ' '.join(stri.split())\n",
    "                else:\n",
    "                    stri = 'nan'\n",
    "            else:\n",
    "                stri = 'nan'\n",
    "            if stri != '' and stri != ' ': \n",
    "                allList[k+1].append(stri)\n",
    "            else:\n",
    "                allList[k+1].append('nan')\n",
    "    r = r + 25\n",
    "    \n",
    "                "
   ]
  },
  {
   "cell_type": "code",
   "execution_count": 18,
   "id": "da833ced",
   "metadata": {},
   "outputs": [],
   "source": [
    "liste = pd.DataFrame({ \"NAME\": allList[0],\"Address\": allList[1],\"Tradition\": allList[2],\"Affiliation\": allList[3],\"Phone\": allList[4],\"E-mail\": allList[5],\"Website\": allList[6],\"Main Contact\": allList[7],\"Spiritual Director\": allList[8],\"Teacher\": allList[9],'Notes and Events':allList[10]})\n",
    "liste.to_excel(\"buddhanetAttributesScraped.xlsx\")"
   ]
  }
 ],
 "metadata": {
  "kernelspec": {
   "display_name": "Python 3 (ipykernel)",
   "language": "python",
   "name": "python3"
  },
  "language_info": {
   "codemirror_mode": {
    "name": "ipython",
    "version": 3
   },
   "file_extension": ".py",
   "mimetype": "text/x-python",
   "name": "python",
   "nbconvert_exporter": "python",
   "pygments_lexer": "ipython3",
   "version": "3.7.9"
  }
 },
 "nbformat": 4,
 "nbformat_minor": 5
}
