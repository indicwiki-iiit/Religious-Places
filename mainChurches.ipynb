{
 "cells": [
  {
   "cell_type": "code",
   "execution_count": 1,
   "id": "778eee37",
   "metadata": {},
   "outputs": [],
   "source": [
    "import importlib\n",
    "import import_ipynb"
   ]
  },
  {
   "cell_type": "code",
   "execution_count": 2,
   "id": "dd68b03b",
   "metadata": {},
   "outputs": [
    {
     "name": "stdout",
     "output_type": "stream",
     "text": [
      "importing Jupyter notebook from genXMLChurches.ipynb\n",
      "importing Jupyter notebook from genXMLChurches.ipynb\n"
     ]
    }
   ],
   "source": [
    "import genXMLChurches\n",
    "importlib.reload(genXMLChurches)\n",
    "from genXMLChurches import tewiki\n",
    "from genXMLChurches import writePage"
   ]
  },
  {
   "cell_type": "code",
   "execution_count": 3,
   "id": "6016ff21",
   "metadata": {},
   "outputs": [],
   "source": [
    "import pandas as pd\n",
    "import numpy as np\n",
    "from jinja2 import Template"
   ]
  },
  {
   "cell_type": "code",
   "execution_count": 13,
   "id": "e5eb4915",
   "metadata": {},
   "outputs": [],
   "source": [
    "df = pd.read_excel('tempChurches.xlsx')\n",
    "with open('churchesTemplate.j2',encoding=\"utf8\") as f:\n",
    "        tmpl = Template(f.read())"
   ]
  },
  {
   "cell_type": "code",
   "execution_count": 7,
   "id": "28a7595a",
   "metadata": {},
   "outputs": [],
   "source": [
    "def gen(start,end):\n",
    "    nameOfXML = 'churches' + str(start)+ 'To' + str(end) + '.xml'\n",
    "    fobj = open(nameOfXML, 'w',encoding=\"utf8\")\n",
    "    fobj.write(tewiki+'\\n')\n",
    "    for i in range(start,end):\n",
    "        items = df.iloc[i].to_dict()\n",
    "        for j in items:\n",
    "            items[j] = str(items[j])\n",
    "        title = df.iloc[i]['name']\n",
    "        text = tmpl.render(\n",
    "            items = items\n",
    "        )\n",
    "        writePage(title, text, fobj,i)\n",
    "    fobj.write('</mediawiki>')\n",
    "    fobj.close()"
   ]
  },
  {
   "cell_type": "code",
   "execution_count": 15,
   "id": "c8b01a96",
   "metadata": {},
   "outputs": [],
   "source": [
    "# size = 1000\n",
    "# start = 0\n",
    "# while (start+size) <= 1000:\n",
    "#     gen(start,(start+size))\n",
    "#     start = start + size\n",
    "gen(0,len(df))\n"
   ]
  }
 ],
 "metadata": {
  "kernelspec": {
   "display_name": "Python 3 (ipykernel)",
   "language": "python",
   "name": "python3"
  },
  "language_info": {
   "codemirror_mode": {
    "name": "ipython",
    "version": 3
   },
   "file_extension": ".py",
   "mimetype": "text/x-python",
   "name": "python",
   "nbconvert_exporter": "python",
   "pygments_lexer": "ipython3",
   "version": "3.7.9"
  }
 },
 "nbformat": 4,
 "nbformat_minor": 5
}
