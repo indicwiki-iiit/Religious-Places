{
 "cells": [
  {
   "cell_type": "code",
   "execution_count": 1,
   "id": "dcd5d7c1",
   "metadata": {},
   "outputs": [],
   "source": [
    "import os\n",
    "from selenium import webdriver\n",
    "from selenium.webdriver.support.ui import WebDriverWait\n",
    "from selenium.webdriver.support import expected_conditions as EC\n",
    "from selenium.webdriver.common.by import By\n",
    "from selenium.common.exceptions import TimeoutException\n",
    "os.environ['PATH'] += r\"C:\\seleniumDrivers\"\n",
    "import pandas as pd\n",
    "import numpy as np\n",
    "import requests\n",
    "from bs4 import BeautifulSoup\n",
    "from time import sleep\n",
    "from random import randint\n",
    "from selenium.webdriver.support.ui import Select"
   ]
  },
  {
   "cell_type": "code",
   "execution_count": null,
   "id": "8210646b",
   "metadata": {},
   "outputs": [],
   "source": [
    "driver = webdriver.Chrome()\n",
    "driver.maximize_window()\n",
    "driver.get('https://www.bing.com/translator')\n",
    "\n",
    "select_element = Select(driver.find_element(By.CSS_SELECTOR,\"#tta_tgtsl\"))\n",
    "select_element.select_by_value('te')\n",
    "\n",
    "df = pd.read_excel('translationEnglish.xlsx')\n",
    "mylist = df['Spiritual Director'].tolist()\n",
    "\n",
    "for i in mylist:\n",
    "    inputBox = driver.find_element(By.ID,'tta_input_ta')\n",
    "    inputBox.clear()\n",
    "    inputBox.send_keys(i)\n",
    "    sleep(3)\n",
    "    if str(i) != 'nan':\n",
    "        outPut =  driver.execute_script(\"return document.getElementById('tta_output_ta').value;\")\n",
    "        print(outPut)\n",
    "    else:\n",
    "        print(i)"
   ]
  },
  {
   "cell_type": "markdown",
   "id": "5c873c85",
   "metadata": {},
   "source": [
    "<span style=\"color: red\">use path of your seleniumDrivers in place of C:\\seleniumDrivers</span>\n",
    "<br>\n",
    "use your dataset in place of translationEnglish.xlsx\n",
    "<br>\n",
    "use the name of the column you want to transla in place of Spiritual Director"
   ]
  }
 ],
 "metadata": {
  "kernelspec": {
   "display_name": "Python 3 (ipykernel)",
   "language": "python",
   "name": "python3"
  },
  "language_info": {
   "codemirror_mode": {
    "name": "ipython",
    "version": 3
   },
   "file_extension": ".py",
   "mimetype": "text/x-python",
   "name": "python",
   "nbconvert_exporter": "python",
   "pygments_lexer": "ipython3",
   "version": "3.7.9"
  }
 },
 "nbformat": 4,
 "nbformat_minor": 5
}
