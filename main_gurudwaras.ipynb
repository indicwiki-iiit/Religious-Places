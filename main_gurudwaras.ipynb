{
 "cells": [
  {
   "cell_type": "code",
   "execution_count": 18,
   "id": "b1e782f6",
   "metadata": {},
   "outputs": [],
   "source": [
    "import importlib\n",
    "import import_ipynb"
   ]
  },
  {
   "cell_type": "code",
   "execution_count": 19,
   "id": "8c98a99e",
   "metadata": {},
   "outputs": [
    {
     "name": "stdout",
     "output_type": "stream",
     "text": [
      "importing Jupyter notebook from genXML.ipynb\n"
     ]
    }
   ],
   "source": [
    "import genXML\n",
    "importlib.reload(genXML)\n",
    "from genXML import tewiki\n",
    "from genXML import writePage"
   ]
  },
  {
   "cell_type": "code",
   "execution_count": 20,
   "id": "c0fc1852",
   "metadata": {},
   "outputs": [],
   "source": [
    "import pandas as pd\n",
    "import numpy as np\n",
    "from jinja2 import Template"
   ]
  },
  {
   "cell_type": "code",
   "execution_count": 23,
   "id": "7d2dfca7",
   "metadata": {},
   "outputs": [],
   "source": [
    "def main():\n",
    "    df = pd.read_excel('translated_gurudwara.xlsx')\n",
    "    with open('gurudwara_template.j2',encoding=\"utf8\") as f:\n",
    "        tmpl = Template(f.read())\n",
    "    fobj = open('gurudwara.xml', 'w',encoding=\"utf8\")\n",
    "    fobj.write(tewiki+'\\n')\n",
    "    for i in range(249):\n",
    "        items = df.iloc[i].to_dict()\n",
    "        for j in items:\n",
    "            items[j] = str(items[j])\n",
    "        title = df.iloc[i]['Name']\n",
    "        text = tmpl.render(\n",
    "            items = items\n",
    "        )\n",
    "        writePage(title, text, fobj)\n",
    "    fobj.write('</mediawiki>')\n",
    "    fobj.close()\n",
    "    "
   ]
  },
  {
   "cell_type": "code",
   "execution_count": 24,
   "id": "d58004aa",
   "metadata": {},
   "outputs": [],
   "source": [
    "main()"
   ]
  },
  {
   "cell_type": "code",
   "execution_count": null,
   "id": "c1e4c8cf",
   "metadata": {},
   "outputs": [],
   "source": []
  }
 ],
 "metadata": {
  "kernelspec": {
   "display_name": "Python 3 (ipykernel)",
   "language": "python",
   "name": "python3"
  },
  "language_info": {
   "codemirror_mode": {
    "name": "ipython",
    "version": 3
   },
   "file_extension": ".py",
   "mimetype": "text/x-python",
   "name": "python",
   "nbconvert_exporter": "python",
   "pygments_lexer": "ipython3",
   "version": "3.7.9"
  }
 },
 "nbformat": 4,
 "nbformat_minor": 5
}
