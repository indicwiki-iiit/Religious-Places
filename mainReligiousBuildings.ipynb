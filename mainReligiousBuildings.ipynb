{
 "cells": [
  {
   "cell_type": "code",
   "execution_count": 1,
   "id": "6e3ba0a4",
   "metadata": {},
   "outputs": [],
   "source": [
    "import importlib\n",
    "import import_ipynb"
   ]
  },
  {
   "cell_type": "code",
   "execution_count": 2,
   "id": "dea1f75d",
   "metadata": {},
   "outputs": [
    {
     "name": "stdout",
     "output_type": "stream",
     "text": [
      "importing Jupyter notebook from genXMLReligiousBuildings.ipynb\n",
      "importing Jupyter notebook from genXMLReligiousBuildings.ipynb\n"
     ]
    }
   ],
   "source": [
    "import genXMLReligiousBuildings\n",
    "importlib.reload(genXMLReligiousBuildings)\n",
    "from genXMLReligiousBuildings import tewiki\n",
    "from genXMLReligiousBuildings import writePage"
   ]
  },
  {
   "cell_type": "code",
   "execution_count": 3,
   "id": "c6a5278d",
   "metadata": {},
   "outputs": [],
   "source": [
    "import pandas as pd\n",
    "import numpy as np\n",
    "from jinja2 import Template"
   ]
  },
  {
   "cell_type": "code",
   "execution_count": 4,
   "id": "a3299968",
   "metadata": {},
   "outputs": [],
   "source": [
    "df = pd.read_excel('ReligiousBuildingTranslated.xlsx')\n",
    "with open('religiousBuildingTemplate.j2',encoding=\"utf8\") as f:\n",
    "        tmpl = Template(f.read())"
   ]
  },
  {
   "cell_type": "code",
   "execution_count": 5,
   "id": "065612a0",
   "metadata": {},
   "outputs": [],
   "source": [
    "def gen(start,end):\n",
    "    nameOfXML = 'religiousBuildings' + str(start)+ 'To' + str(end) + '.xml'\n",
    "    fobj = open(nameOfXML, 'w',encoding=\"utf8\")\n",
    "    fobj.write(tewiki+'\\n')\n",
    "    for i in range(start,end):\n",
    "        items = df.iloc[i].to_dict()\n",
    "        for j in items:\n",
    "            items[j] = str(items[j])\n",
    "            items[j] = items[j].strip()\n",
    "        title = df.iloc[i]['name']\n",
    "        text = tmpl.render(\n",
    "            items = items\n",
    "        )\n",
    "        writePage(title, text, fobj,i)\n",
    "    fobj.write('</mediawiki>')\n",
    "    fobj.close()"
   ]
  },
  {
   "cell_type": "code",
   "execution_count": 7,
   "id": "1f01f0fc",
   "metadata": {},
   "outputs": [],
   "source": [
    "# if size number of religiousBuilding should be in each XML then\n",
    "# size = 2000\n",
    "# start = 0\n",
    "# while (start+size) <= 2000:\n",
    "#     gen(start,(start+size))\n",
    "#     start = start + size\n",
    "gen(0,len(df))"
   ]
  }
 ],
 "metadata": {
  "kernelspec": {
   "display_name": "Python 3 (ipykernel)",
   "language": "python",
   "name": "python3"
  },
  "language_info": {
   "codemirror_mode": {
    "name": "ipython",
    "version": 3
   },
   "file_extension": ".py",
   "mimetype": "text/x-python",
   "name": "python",
   "nbconvert_exporter": "python",
   "pygments_lexer": "ipython3",
   "version": "3.7.9"
  }
 },
 "nbformat": 4,
 "nbformat_minor": 5
}
