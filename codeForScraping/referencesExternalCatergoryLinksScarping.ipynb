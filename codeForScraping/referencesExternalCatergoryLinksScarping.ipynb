{
 "cells": [
  {
   "cell_type": "code",
   "execution_count": 1,
   "id": "12c45d27",
   "metadata": {},
   "outputs": [],
   "source": [
    "import pandas as pd\n",
    "import numpy as np\n",
    "import requests\n",
    "import bs4\n",
    "from bs4 import BeautifulSoup"
   ]
  },
  {
   "cell_type": "code",
   "execution_count": 2,
   "id": "982686ad",
   "metadata": {},
   "outputs": [],
   "source": [
    "referencesList = []\n",
    "externalLinksList = []\n",
    "categoryList = []"
   ]
  },
  {
   "cell_type": "code",
   "execution_count": 3,
   "id": "369529e7",
   "metadata": {},
   "outputs": [],
   "source": [
    "df = pd.read_excel('churchesLinks.xlsx')\n",
    "mylist = df['Link'].tolist()"
   ]
  },
  {
   "cell_type": "code",
   "execution_count": 4,
   "id": "fe82234a",
   "metadata": {},
   "outputs": [],
   "source": [
    "def getReferences(html):\n",
    "    stri = \"\"\n",
    "    maxSiz = 7\n",
    "    refDiv = html.find_all(class_=\"references\")\n",
    "    if len(refDiv) > 1:\n",
    "        refDiv = refDiv[1]\n",
    "    elif len(refDiv) == 1:\n",
    "        refDiv = refDiv[0]\n",
    "    if len(refDiv) != 0:\n",
    "        allRefTexts = refDiv.find_all(class_=\"reference-text\")\n",
    "        for i in allRefTexts:\n",
    "            if maxSiz == 0:\n",
    "                break\n",
    "            link = i.find('a',href=True)\n",
    "            if link != None:\n",
    "                link = link['href']\n",
    "                link = (\"https://en.wikipedia.org/\" + link) if link.find('http') == -1  else link\n",
    "                stri += (link + \" \")\n",
    "                maxSiz -= 1\n",
    "    else:\n",
    "        stri = \"nan\"\n",
    "    if stri == \"\":\n",
    "        stri = 'nan'\n",
    "    return stri"
   ]
  },
  {
   "cell_type": "code",
   "execution_count": 5,
   "id": "eb66c2f7",
   "metadata": {},
   "outputs": [],
   "source": [
    "def getExternalLinks(html):\n",
    "    siz = 3\n",
    "    externalLinkTag = html.find(attrs={'id':'External_links'})\n",
    "    if externalLinkTag != None:\n",
    "        externalLinkTag = externalLinkTag.parent\n",
    "        externalLinkTag = externalLinkTag.next_sibling\n",
    "        while str(externalLinkTag) == \"\\n\" and externalLinkTag != None:\n",
    "            externalLinkTag = externalLinkTag.next_sibling\n",
    "        while siz > 0:\n",
    "            link = externalLinkTag.find_all('a',href=True)\n",
    "#             print(externalLinkTag)\n",
    "            if len(link) != 0:\n",
    "#                 if link.has_attrs(\"href\"):\n",
    "                for i in link:\n",
    "                    if isinstance(i,bs4.element.Tag):\n",
    "                        if i != None:\n",
    "                                i = i['href']\n",
    "                                if i.find('wiki') == -1:\n",
    "                                    print(i)\n",
    "                                    siz -= 1\n",
    "            externalLinkTag = externalLinkTag.next_sibling\n",
    "            while str(externalLinkTag) == \"\\n\":\n",
    "                externalLinkTag = externalLinkTag.next_sibling\n",
    "            if externalLinkTag == None:\n",
    "                break\n",
    "    else:\n",
    "        print(\"nan\")\n",
    "        "
   ]
  },
  {
   "cell_type": "code",
   "execution_count": 6,
   "id": "9924fbc0",
   "metadata": {},
   "outputs": [],
   "source": [
    "def getExternalLinksBYUl(html):\n",
    "    stri = \"\"\n",
    "    externalLinkTag = html.find(attrs={'id':'External_links'})\n",
    "    if externalLinkTag != None:\n",
    "        externalLinkTag = externalLinkTag.parent\n",
    "        externalLinkTag = externalLinkTag.next_sibling\n",
    "        while str(externalLinkTag) == \"\\n\":\n",
    "            externalLinkTag = externalLinkTag.next_sibling\n",
    "        if externalLinkTag != None:\n",
    "            for i in range(5):\n",
    "                if externalLinkTag.name == 'ul':\n",
    "                    break;\n",
    "                externalLinkTag = externalLinkTag.next_sibling\n",
    "                while str(externalLinkTag) == \"\\n\":\n",
    "                    externalLinkTag = externalLinkTag.next_sibling\n",
    "                if externalLinkTag == None:\n",
    "                    break\n",
    "        if externalLinkTag != None and externalLinkTag.name == 'ul':\n",
    "            link = externalLinkTag.find_all('a',href=True)\n",
    "            for i in link:\n",
    "                if i['href'].find('wiki') == -1:\n",
    "                    stri += (i['href'] + \" \")\n",
    "        else:\n",
    "            stri = 'nan'\n",
    "    else:\n",
    "        stri = 'nan'\n",
    "    if stri == \"\":\n",
    "        stri  = \"nan\"\n",
    "    return stri"
   ]
  },
  {
   "cell_type": "code",
   "execution_count": 7,
   "id": "9f442ea4",
   "metadata": {},
   "outputs": [],
   "source": [
    "def getCategory(html):\n",
    "    stri = \"\"\n",
    "    catDiv = html.find(attrs={'id':'catlinks'})\n",
    "    if catDiv != None:\n",
    "        thatUl = catDiv.find('ul')\n",
    "        if thatUl != None:\n",
    "            allLinks = thatUl.find_all('a',href=True)\n",
    "            for i in allLinks:\n",
    "                stri += ('https://en.wikipedia.org/' + i['href'] + ' ')\n",
    "        else:\n",
    "            stri = \"nan\"\n",
    "    else:\n",
    "        stri = 'nan'\n",
    "    if stri == \"\":\n",
    "        stri = 'nan'\n",
    "    return stri"
   ]
  },
  {
   "cell_type": "code",
   "execution_count": null,
   "id": "0303cb4a",
   "metadata": {
    "scrolled": true
   },
   "outputs": [],
   "source": [
    "for i in range(len(mylist)):\n",
    "    url = mylist[i]\n",
    "#     url = \"https://en.wikipedia.org/wiki/Id_Kah_Mosque\"\n",
    "    data = requests.get(url)\n",
    "    html = BeautifulSoup(data.text, 'html.parser')\n",
    "    referencesList.append(getReferences(html))\n",
    "    externalLinksList.append(getExternalLinksBYUl(html))\n",
    "    categoryList.append(getCategory(html))\n",
    "#     print(getReferences(html))\n",
    "#     print(getExternalLinksBYUl(html))\n",
    "#     print(getCategory(html))\n",
    "    print(i,\"done\")"
   ]
  },
  {
   "cell_type": "code",
   "execution_count": null,
   "id": "f5e2f4bd",
   "metadata": {},
   "outputs": [],
   "source": [
    "print(len(referencesList))\n",
    "print(len(externalLinksList))\n",
    "print(len(categoryList))"
   ]
  },
  {
   "cell_type": "code",
   "execution_count": 11,
   "id": "d988d042",
   "metadata": {},
   "outputs": [],
   "source": [
    "liste = pd.DataFrame({ \"references\": referencesList,\"externalLinks\": externalLinksList,\"category\":categoryList})\n",
    "liste.to_excel(\"churcheRemaingRECscraped.xlsx\")"
   ]
  }
 ],
 "metadata": {
  "kernelspec": {
   "display_name": "Python 3 (ipykernel)",
   "language": "python",
   "name": "python3"
  },
  "language_info": {
   "codemirror_mode": {
    "name": "ipython",
    "version": 3
   },
   "file_extension": ".py",
   "mimetype": "text/x-python",
   "name": "python",
   "nbconvert_exporter": "python",
   "pygments_lexer": "ipython3",
   "version": "3.7.9"
  }
 },
 "nbformat": 4,
 "nbformat_minor": 5
}
