{
 "cells": [
  {
   "cell_type": "code",
   "execution_count": null,
   "id": "972f119f",
   "metadata": {},
   "outputs": [],
   "source": [
    "import pandas as pd\n",
    "import numpy as np\n",
    "import requests\n",
    "from bs4 import BeautifulSoup\n",
    "\n",
    "df = pd.read_excel(\"gurudwara.xlsx\")\n",
    "mylist = df['Links'].tolist()\n",
    "\n",
    "for i in mylist:\n",
    "    url = i\n",
    "    data = requests.get(url)\n",
    "    html = BeautifulSoup(data.text, 'html.parser')\n",
    "    divtag = html.find('span', class_ = 'text gaddress')\n",
    "    if divtag:\n",
    "        print(divtag.text)\n",
    "    else:\n",
    "        print('nan')\n",
    "\n",
    "for i in mylist:\n",
    "    url = i\n",
    "    data = requests.get(url)\n",
    "    html = BeautifulSoup(data.text, 'html.parser')\n",
    "    divtag = html.find('div', class_ = 'section_data active show-read-more text-justify')\n",
    "    if divtag:\n",
    "        print(divtag.text.replace('\\n', \" \"))\n",
    "    else:\n",
    "        print('nan')\n",
    "    print()\n",
    "\n",
    "\n",
    "    \n"
   ]
  },
  {
   "cell_type": "code",
   "execution_count": null,
   "id": "58e2cf7d",
   "metadata": {},
   "outputs": [],
   "source": []
  },
  {
   "cell_type": "code",
   "execution_count": null,
   "id": "b583fbdc",
   "metadata": {},
   "outputs": [],
   "source": []
  }
 ],
 "metadata": {
  "kernelspec": {
   "display_name": "Python 3 (ipykernel)",
   "language": "python",
   "name": "python3"
  },
  "language_info": {
   "codemirror_mode": {
    "name": "ipython",
    "version": 3
   },
   "file_extension": ".py",
   "mimetype": "text/x-python",
   "name": "python",
   "nbconvert_exporter": "python",
   "pygments_lexer": "ipython3",
   "version": "3.7.9"
  }
 },
 "nbformat": 4,
 "nbformat_minor": 5
}
