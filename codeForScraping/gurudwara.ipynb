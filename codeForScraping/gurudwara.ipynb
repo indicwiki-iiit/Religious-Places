{
 "cells": [
  {
   "cell_type": "code",
   "execution_count": 2,
   "id": "c4020b64",
   "metadata": {},
   "outputs": [
    {
     "name": "stderr",
     "output_type": "stream",
     "text": [
      "c:\\users\\geethika\\appdata\\local\\programs\\python\\python37\\lib\\site-packages\\ipykernel_launcher.py:31: DeprecationWarning: find_elements_by_xpath is deprecated. Please use find_elements(by=By.XPATH, value=xpath) instead\n"
     ]
    }
   ],
   "source": [
    "import os\n",
    "from selenium import webdriver\n",
    "from selenium.webdriver.support.ui import WebDriverWait\n",
    "from selenium.webdriver.support import expected_conditions as EC\n",
    "from selenium.webdriver.common.by import By\n",
    "from selenium.common.exceptions import TimeoutException\n",
    "os.environ['PATH'] += r\"C:\\seleniumDrivers\"\n",
    "import pandas as pd\n",
    "import numpy as np\n",
    "import requests\n",
    "from bs4 import BeautifulSoup\n",
    "from time import sleep\n",
    "from random import randint\n",
    "\n",
    "names = []\n",
    "links = []\n",
    "\n",
    "driver = webdriver.Chrome()\n",
    "driver.get('http://etemple.com/temple-type/gurudwara/')\n",
    "\n",
    "for pages in range(8):\n",
    "    driver.implicitly_wait(4)\n",
    "    allNames = driver.find_elements(By.CLASS_NAME, value='lp-h4')\n",
    "    for i in allNames:\n",
    "        if i not in names:\n",
    "            names.append(i.text.replace('\\n',\"\").replace(\"\\t\",\"\").strip())\n",
    "            links.append(i.find_element(By.TAG_NAME, value='a').get_attribute('href'))\n",
    "    driver.execute_script(\"window.scrollTo(0, document.body.scrollHeight);\")\n",
    "    driver.implicitly_wait(15)\n",
    "#     currPage = WebDriverWait(driver, 20).until(EC.presence_of_element_located((By.CLASS_NAME, 'page-numbers haspaglink current')))\n",
    "    currPage = driver.find_elements_by_xpath(\"//span[@class='page-numbers haspaglink current']\")\n",
    "    if len(currPage) > 0:\n",
    "        nextPage = currPage[0].find_element_by_xpath(\"../following-sibling::li\")\n",
    "        nextPage.click()\n",
    "\n",
    "\n",
    "liste = pd.DataFrame({ \"NAME\": names,\"LINKS\": links})\n",
    "liste.to_excel(\"gurudwara.xlsx\")"
   ]
  },
  {
   "cell_type": "code",
   "execution_count": null,
   "id": "36179530",
   "metadata": {},
   "outputs": [],
   "source": []
  }
 ],
 "metadata": {
  "kernelspec": {
   "display_name": "Python 3 (ipykernel)",
   "language": "python",
   "name": "python3"
  },
  "language_info": {
   "codemirror_mode": {
    "name": "ipython",
    "version": 3
   },
   "file_extension": ".py",
   "mimetype": "text/x-python",
   "name": "python",
   "nbconvert_exporter": "python",
   "pygments_lexer": "ipython3",
   "version": "3.7.9"
  }
 },
 "nbformat": 4,
 "nbformat_minor": 5
}
