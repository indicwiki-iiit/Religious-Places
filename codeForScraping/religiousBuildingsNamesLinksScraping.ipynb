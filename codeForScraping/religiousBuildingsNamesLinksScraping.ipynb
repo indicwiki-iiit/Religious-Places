{
 "cells": [
  {
   "cell_type": "code",
   "execution_count": 2,
   "id": "afea41dc",
   "metadata": {},
   "outputs": [],
   "source": [
    "import pandas as pd\n",
    "import numpy as np\n",
    "import requests\n",
    "from bs4 import BeautifulSoup\n",
    "from time import sleep\n",
    "from random import randint"
   ]
  },
  {
   "cell_type": "code",
   "execution_count": null,
   "id": "cc93e029",
   "metadata": {
    "scrolled": false
   },
   "outputs": [],
   "source": [
    "url = 'https://en.wikipedia.org/w/index.php?title=Special:WhatLinksHere/Template:Infobox_religious_building&limit=500&offset=0%7C68248612&hidelinks=1&hideimages=1&dir=next'\n",
    "data = requests.get(url)\n",
    "html = BeautifulSoup(data.text, 'html.parser')\n",
    "thatUl = html.find('ul', id=\"mw-whatlinkshere-list\")\n",
    "allLis = thatUl.find_all('li')\n",
    "for i in allLis:\n",
    "    print(i.a.text)\n",
    "print()\n",
    "print()\n",
    "for i in allLis:\n",
    "    print(\"https://en.wikipedia.org/\"+i.a['href'])\n",
    "    "
   ]
  }
 ],
 "metadata": {
  "kernelspec": {
   "display_name": "Python 3 (ipykernel)",
   "language": "python",
   "name": "python3"
  },
  "language_info": {
   "codemirror_mode": {
    "name": "ipython",
    "version": 3
   },
   "file_extension": ".py",
   "mimetype": "text/x-python",
   "name": "python",
   "nbconvert_exporter": "python",
   "pygments_lexer": "ipython3",
   "version": "3.7.9"
  }
 },
 "nbformat": 4,
 "nbformat_minor": 5
}
